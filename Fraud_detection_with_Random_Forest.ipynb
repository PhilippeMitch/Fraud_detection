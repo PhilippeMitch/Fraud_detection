{
  "nbformat": 4,
  "nbformat_minor": 0,
  "metadata": {
    "colab": {
      "name": "Fraud detection with Random Forest.ipynb",
      "provenance": []
    },
    "kernelspec": {
      "name": "python3",
      "display_name": "Python 3"
    }
  },
  "cells": [
    {
      "cell_type": "code",
      "metadata": {
        "id": "kx7EVit8RFrC",
        "colab_type": "code",
        "colab": {}
      },
      "source": [
        "# Import of libraries.\n",
        "# Pandas offers in particular data structures and operations for manipulating digital tables and time series\n",
        "import pandas as pd\n",
        "import numpy as np"
      ],
      "execution_count": 0,
      "outputs": []
    },
    {
      "cell_type": "code",
      "metadata": {
        "id": "CMnrA1IITjZM",
        "colab_type": "code",
        "colab": {}
      },
      "source": [
        "# Import our dataset\n",
        "data = pd.read_csv('prediction_de_fraud_2.csv')"
      ],
      "execution_count": 0,
      "outputs": []
    },
    {
      "cell_type": "code",
      "metadata": {
        "id": "JaKl637BTwve",
        "colab_type": "code",
        "outputId": "9815ae3b-7b90-45dd-8171-1ab6d31feb5e",
        "colab": {
          "base_uri": "https://localhost:8080/",
          "height": 224
        }
      },
      "source": [
        "# Let's see what our data looks like\n",
        "data.head()"
      ],
      "execution_count": 0,
      "outputs": [
        {
          "output_type": "execute_result",
          "data": {
            "text/html": [
              "<div>\n",
              "<style scoped>\n",
              "    .dataframe tbody tr th:only-of-type {\n",
              "        vertical-align: middle;\n",
              "    }\n",
              "\n",
              "    .dataframe tbody tr th {\n",
              "        vertical-align: top;\n",
              "    }\n",
              "\n",
              "    .dataframe thead th {\n",
              "        text-align: right;\n",
              "    }\n",
              "</style>\n",
              "<table border=\"1\" class=\"dataframe\">\n",
              "  <thead>\n",
              "    <tr style=\"text-align: right;\">\n",
              "      <th></th>\n",
              "      <th>step</th>\n",
              "      <th>type</th>\n",
              "      <th>amount</th>\n",
              "      <th>nameOrig</th>\n",
              "      <th>oldbalanceOrg</th>\n",
              "      <th>newbalanceOrig</th>\n",
              "      <th>nameDest</th>\n",
              "      <th>oldbalanceDest</th>\n",
              "      <th>newbalanceDest</th>\n",
              "      <th>isFraud</th>\n",
              "      <th>isFlaggedFraud</th>\n",
              "    </tr>\n",
              "  </thead>\n",
              "  <tbody>\n",
              "    <tr>\n",
              "      <th>0</th>\n",
              "      <td>1</td>\n",
              "      <td>PAYMENT</td>\n",
              "      <td>9839.64</td>\n",
              "      <td>C1231006815</td>\n",
              "      <td>170136.0</td>\n",
              "      <td>160296.36</td>\n",
              "      <td>M1979787155</td>\n",
              "      <td>0.0</td>\n",
              "      <td>0.0</td>\n",
              "      <td>0</td>\n",
              "      <td>0</td>\n",
              "    </tr>\n",
              "    <tr>\n",
              "      <th>1</th>\n",
              "      <td>1</td>\n",
              "      <td>PAYMENT</td>\n",
              "      <td>1864.28</td>\n",
              "      <td>C1666544295</td>\n",
              "      <td>21249.0</td>\n",
              "      <td>19384.72</td>\n",
              "      <td>M2044282225</td>\n",
              "      <td>0.0</td>\n",
              "      <td>0.0</td>\n",
              "      <td>0</td>\n",
              "      <td>0</td>\n",
              "    </tr>\n",
              "    <tr>\n",
              "      <th>2</th>\n",
              "      <td>1</td>\n",
              "      <td>TRANSFER</td>\n",
              "      <td>2806.00</td>\n",
              "      <td>C1420196421</td>\n",
              "      <td>2806.0</td>\n",
              "      <td>0.00</td>\n",
              "      <td>C972765878</td>\n",
              "      <td>0.0</td>\n",
              "      <td>0.0</td>\n",
              "      <td>1</td>\n",
              "      <td>0</td>\n",
              "    </tr>\n",
              "    <tr>\n",
              "      <th>3</th>\n",
              "      <td>1</td>\n",
              "      <td>CASH_OUT</td>\n",
              "      <td>2806.00</td>\n",
              "      <td>C2101527076</td>\n",
              "      <td>2806.0</td>\n",
              "      <td>0.00</td>\n",
              "      <td>C1007251739</td>\n",
              "      <td>26202.0</td>\n",
              "      <td>0.0</td>\n",
              "      <td>1</td>\n",
              "      <td>0</td>\n",
              "    </tr>\n",
              "    <tr>\n",
              "      <th>4</th>\n",
              "      <td>1</td>\n",
              "      <td>TRANSFER</td>\n",
              "      <td>181.00</td>\n",
              "      <td>C1305486145</td>\n",
              "      <td>181.0</td>\n",
              "      <td>0.00</td>\n",
              "      <td>C553264065</td>\n",
              "      <td>0.0</td>\n",
              "      <td>0.0</td>\n",
              "      <td>1</td>\n",
              "      <td>0</td>\n",
              "    </tr>\n",
              "  </tbody>\n",
              "</table>\n",
              "</div>"
            ],
            "text/plain": [
              "   step      type   amount  ... newbalanceDest  isFraud  isFlaggedFraud\n",
              "0     1   PAYMENT  9839.64  ...            0.0        0               0\n",
              "1     1   PAYMENT  1864.28  ...            0.0        0               0\n",
              "2     1  TRANSFER  2806.00  ...            0.0        1               0\n",
              "3     1  CASH_OUT  2806.00  ...            0.0        1               0\n",
              "4     1  TRANSFER   181.00  ...            0.0        1               0\n",
              "\n",
              "[5 rows x 11 columns]"
            ]
          },
          "metadata": {
            "tags": []
          },
          "execution_count": 5
        }
      ]
    },
    {
      "cell_type": "code",
      "metadata": {
        "id": "oNnhM0vbT_td",
        "colab_type": "code",
        "outputId": "c5c26f44-b449-4718-f321-6fc696f2e53f",
        "colab": {
          "base_uri": "https://localhost:8080/",
          "height": 85
        }
      },
      "source": [
        "print(data.columns)"
      ],
      "execution_count": 0,
      "outputs": [
        {
          "output_type": "stream",
          "text": [
            "Index(['step', 'type', 'amount', 'nameOrig', 'oldbalanceOrg', 'newbalanceOrig',\n",
            "       'nameDest', 'oldbalanceDest', 'newbalanceDest', 'isFraud',\n",
            "       'isFlaggedFraud'],\n",
            "      dtype='object')\n"
          ],
          "name": "stdout"
        }
      ]
    },
    {
      "cell_type": "code",
      "metadata": {
        "id": "hBMEnmoHUDAf",
        "colab_type": "code",
        "outputId": "3716c92f-e1e6-4a00-f140-34f410ab2c23",
        "colab": {
          "base_uri": "https://localhost:8080/",
          "height": 34
        }
      },
      "source": [
        "data.shape"
      ],
      "execution_count": 0,
      "outputs": [
        {
          "output_type": "execute_result",
          "data": {
            "text/plain": [
              "(295, 11)"
            ]
          },
          "metadata": {
            "tags": []
          },
          "execution_count": 7
        }
      ]
    },
    {
      "cell_type": "code",
      "metadata": {
        "id": "_3Q457hQUFVo",
        "colab_type": "code",
        "outputId": "3c056212-cc2c-4744-bd86-ceae11755658",
        "colab": {
          "base_uri": "https://localhost:8080/",
          "height": 255
        }
      },
      "source": [
        "data.isnull"
      ],
      "execution_count": 0,
      "outputs": [
        {
          "output_type": "execute_result",
          "data": {
            "text/plain": [
              "<bound method DataFrame.isnull of      step      type      amount  ... newbalanceDest  isFraud  isFlaggedFraud\n",
              "0       1   PAYMENT     9839.64  ...           0.00        0               0\n",
              "1       1   PAYMENT     1864.28  ...           0.00        0               0\n",
              "2       1  TRANSFER     2806.00  ...           0.00        1               0\n",
              "3       1  CASH_OUT     2806.00  ...           0.00        1               0\n",
              "4       1  TRANSFER      181.00  ...           0.00        1               0\n",
              "..    ...       ...         ...  ...            ...      ...             ...\n",
              "290   743  CASH_OUT   339682.13  ...      339682.13        1               0\n",
              "291   743  TRANSFER  6311409.28  ...           0.00        1               0\n",
              "292   743  CASH_OUT  6311409.28  ...     6379898.11        1               0\n",
              "293   743  TRANSFER   850002.52  ...           0.00        1               0\n",
              "294   743  CASH_OUT   850002.52  ...     7360101.63        1               0\n",
              "\n",
              "[295 rows x 11 columns]>"
            ]
          },
          "metadata": {
            "tags": []
          },
          "execution_count": 8
        }
      ]
    },
    {
      "cell_type": "code",
      "metadata": {
        "id": "lAOqaEc4UJXF",
        "colab_type": "code",
        "colab": {}
      },
      "source": [
        "# Creation of predictive data and data to predict. \n",
        "# characteristics => predictive data\n",
        "# to_predict => data to predict\n",
        "\n",
        "# axis=1 means that we want to drop the column with the name 'isFraud'\n",
        "# The values are simply a familiar NumPy array\n",
        "characteristics = data.drop('isFraud', axis=1).values\n",
        "to_predict = data['isFraud'].values"
      ],
      "execution_count": 0,
      "outputs": []
    },
    {
      "cell_type": "code",
      "metadata": {
        "id": "vv1uSbEMWvMe",
        "colab_type": "code",
        "outputId": "aabec9e4-3794-4aa4-d2e8-620b2f042e06",
        "colab": {
          "base_uri": "https://localhost:8080/",
          "height": 153
        }
      },
      "source": [
        "characteristics"
      ],
      "execution_count": 0,
      "outputs": [
        {
          "output_type": "execute_result",
          "data": {
            "text/plain": [
              "array([[1, 'PAYMENT', 9839.64, ..., 0.0, 0.0, 0],\n",
              "       [1, 'PAYMENT', 1864.28, ..., 0.0, 0.0, 0],\n",
              "       [1, 'TRANSFER', 2806.0, ..., 0.0, 0.0, 0],\n",
              "       ...,\n",
              "       [743, 'CASH_OUT', 6311409.28, ..., 68488.84, 6379898.11, 0],\n",
              "       [743, 'TRANSFER', 850002.52, ..., 0.0, 0.0, 0],\n",
              "       [743, 'CASH_OUT', 850002.52, ..., 6510099.11, 7360101.63, 0]],\n",
              "      dtype=object)"
            ]
          },
          "metadata": {
            "tags": []
          },
          "execution_count": 10
        }
      ]
    },
    {
      "cell_type": "code",
      "metadata": {
        "id": "FGvp56qxW2sn",
        "colab_type": "code",
        "outputId": "2a7f02fd-9790-413b-e3ec-9e8a83c5b62d",
        "colab": {
          "base_uri": "https://localhost:8080/",
          "height": 255
        }
      },
      "source": [
        "to_predict"
      ],
      "execution_count": 0,
      "outputs": [
        {
          "output_type": "execute_result",
          "data": {
            "text/plain": [
              "array([0, 0, 1, 1, 1, 1, 0, 1, 1, 0, 0, 0, 0, 0, 0, 0, 0, 0, 0, 1, 1, 0,\n",
              "       0, 1, 1, 0, 0, 0, 0, 0, 0, 0, 1, 1, 0, 0, 0, 0, 0, 0, 0, 0, 0, 0,\n",
              "       0, 0, 0, 0, 0, 0, 0, 0, 0, 0, 0, 0, 0, 0, 1, 1, 0, 0, 0, 0, 0, 1,\n",
              "       1, 0, 0, 0, 0, 0, 0, 0, 0, 0, 0, 0, 0, 0, 0, 0, 0, 0, 0, 0, 0, 0,\n",
              "       0, 0, 0, 0, 0, 0, 0, 0, 0, 0, 0, 0, 0, 0, 0, 0, 0, 0, 0, 0, 0, 0,\n",
              "       0, 0, 0, 0, 0, 0, 0, 0, 0, 0, 0, 0, 0, 0, 0, 0, 0, 0, 0, 0, 0, 0,\n",
              "       0, 0, 0, 0, 0, 0, 0, 0, 0, 0, 0, 0, 0, 0, 0, 0, 0, 0, 0, 0, 0, 0,\n",
              "       0, 0, 0, 0, 0, 0, 0, 0, 0, 0, 0, 0, 0, 0, 0, 0, 0, 0, 0, 0, 0, 0,\n",
              "       0, 0, 0, 0, 0, 0, 0, 0, 0, 0, 0, 0, 0, 0, 0, 0, 0, 0, 0, 0, 0, 0,\n",
              "       0, 0, 0, 0, 0, 0, 0, 0, 0, 0, 0, 0, 0, 0, 0, 0, 0, 0, 0, 0, 0, 0,\n",
              "       0, 0, 0, 0, 0, 0, 0, 0, 0, 0, 0, 0, 0, 0, 0, 0, 0, 0, 0, 0, 0, 0,\n",
              "       0, 0, 0, 0, 0, 0, 0, 0, 0, 0, 0, 0, 0, 0, 0, 0, 0, 0, 1, 1, 0, 0,\n",
              "       0, 0, 0, 1, 1, 0, 0, 0, 0, 0, 0, 0, 0, 0, 1, 1, 0, 0, 1, 1, 1, 1,\n",
              "       1, 1, 1, 1, 1, 1, 1, 1, 1])"
            ]
          },
          "metadata": {
            "tags": []
          },
          "execution_count": 11
        }
      ]
    },
    {
      "cell_type": "code",
      "metadata": {
        "id": "ppkRaKknW8kz",
        "colab_type": "code",
        "colab": {}
      },
      "source": [
        "# We will change change the categorical variable to numeric variable.\n",
        "# To do that we use the LabelEncoder \n",
        "from sklearn.preprocessing import LabelEncoder"
      ],
      "execution_count": 0,
      "outputs": []
    },
    {
      "cell_type": "code",
      "metadata": {
        "id": "UmjsFo2QZDfN",
        "colab_type": "code",
        "outputId": "b5701795-8d31-41f8-d063-82b8b4c8ac1c",
        "colab": {
          "base_uri": "https://localhost:8080/",
          "height": 255
        }
      },
      "source": [
        "# Let's display the non-numeric variables\n",
        "resultat = data.select_dtypes(include=['object'])\n",
        "print(resultat)"
      ],
      "execution_count": 0,
      "outputs": [
        {
          "output_type": "stream",
          "text": [
            "         type     nameOrig     nameDest\n",
            "0     PAYMENT  C1231006815  M1979787155\n",
            "1     PAYMENT  C1666544295  M2044282225\n",
            "2    TRANSFER  C1420196421   C972765878\n",
            "3    CASH_OUT  C2101527076  C1007251739\n",
            "4    TRANSFER  C1305486145   C553264065\n",
            "..        ...          ...          ...\n",
            "290  CASH_OUT   C786484425   C776919290\n",
            "291  TRANSFER  C1529008245  C1881841831\n",
            "292  CASH_OUT  C1162922333  C1365125890\n",
            "293  TRANSFER  C1685995037  C2080388513\n",
            "294  CASH_OUT  C1280323807   C873221189\n",
            "\n",
            "[295 rows x 3 columns]\n"
          ],
          "name": "stdout"
        }
      ]
    },
    {
      "cell_type": "code",
      "metadata": {
        "id": "E3mY6c4EDiJR",
        "colab_type": "code",
        "colab": {}
      },
      "source": [
        "# if you want to see index for each column\n",
        "def column_index(df, query_cols):\n",
        "    cols = df.columns.values\n",
        "    sidx = np.argsort(cols)\n",
        "    return sidx[np.searchsorted(cols,query_cols,sorter=sidx)]"
      ],
      "execution_count": 0,
      "outputs": []
    },
    {
      "cell_type": "code",
      "metadata": {
        "id": "925rCl5hYBkA",
        "colab_type": "code",
        "outputId": "2b9f726d-57bc-4e9e-dcdc-aefc0e266f34",
        "colab": {
          "base_uri": "https://localhost:8080/",
          "height": 153
        }
      },
      "source": [
        "# Apply the labelencoder to the different fields\n",
        "labEnc_x = LabelEncoder()\n",
        "characteristics[:]"
      ],
      "execution_count": 0,
      "outputs": [
        {
          "output_type": "execute_result",
          "data": {
            "text/plain": [
              "array([[1, 'PAYMENT', 9839.64, ..., 0.0, 0.0, 0],\n",
              "       [1, 'PAYMENT', 1864.28, ..., 0.0, 0.0, 0],\n",
              "       [1, 'TRANSFER', 2806.0, ..., 0.0, 0.0, 0],\n",
              "       ...,\n",
              "       [743, 'CASH_OUT', 6311409.28, ..., 68488.84, 6379898.11, 0],\n",
              "       [743, 'TRANSFER', 850002.52, ..., 0.0, 0.0, 0],\n",
              "       [743, 'CASH_OUT', 850002.52, ..., 6510099.11, 7360101.63, 0]],\n",
              "      dtype=object)"
            ]
          },
          "metadata": {
            "tags": []
          },
          "execution_count": 14
        }
      ]
    },
    {
      "cell_type": "code",
      "metadata": {
        "id": "KCECISNRMi1_",
        "colab_type": "code",
        "outputId": "449f2fea-9eb8-4fba-9533-2182b12cdc00",
        "colab": {
          "base_uri": "https://localhost:8080/",
          "height": 34
        }
      },
      "source": [
        "column_index(data, ['type', 'nameOrig', 'nameDest'])"
      ],
      "execution_count": 0,
      "outputs": [
        {
          "output_type": "execute_result",
          "data": {
            "text/plain": [
              "array([1, 3, 6])"
            ]
          },
          "metadata": {
            "tags": []
          },
          "execution_count": 27
        }
      ]
    },
    {
      "cell_type": "code",
      "metadata": {
        "id": "Mfay76p6C4gy",
        "colab_type": "code",
        "colab": {}
      },
      "source": [
        "characteristics[:,1] = labEnc_x.fit_transform(characteristics[:,1])\n",
        "characteristics[:,3] = labEnc_x.fit_transform(characteristics[:,3])\n",
        "characteristics[:,6] = labEnc_x.fit_transform(characteristics[:,6]) "
      ],
      "execution_count": 0,
      "outputs": []
    },
    {
      "cell_type": "code",
      "metadata": {
        "id": "i3WVEjzjMwCT",
        "colab_type": "code",
        "colab": {}
      },
      "source": [
        "# Split the dataset into train data in test data\n",
        "from sklearn.model_selection import train_test_split"
      ],
      "execution_count": 0,
      "outputs": []
    },
    {
      "cell_type": "code",
      "metadata": {
        "id": "5uF5Ouk0RmRW",
        "colab_type": "code",
        "colab": {}
      },
      "source": [
        "X_train, X_test, Y_train, Y_test = train_test_split(characteristics, to_predict, test_size=0.3, random_state=42, stratify=to_predict)"
      ],
      "execution_count": 0,
      "outputs": []
    },
    {
      "cell_type": "code",
      "metadata": {
        "id": "c2yTX0_RSlAs",
        "colab_type": "code",
        "colab": {}
      },
      "source": [
        "# import the RandomForestClassifier\n",
        "from sklearn.ensemble import RandomForestClassifier"
      ],
      "execution_count": 0,
      "outputs": []
    },
    {
      "cell_type": "code",
      "metadata": {
        "id": "vVX_j1p0WHhZ",
        "colab_type": "code",
        "colab": {}
      },
      "source": [
        "# Initialization of the random drill with default parameters\n",
        "random_forest_classifier = RandomForestClassifier(random_state=50)"
      ],
      "execution_count": 0,
      "outputs": []
    },
    {
      "cell_type": "code",
      "metadata": {
        "id": "-Uqky4K1W8r7",
        "colab_type": "code",
        "outputId": "5de42fb5-3731-4caa-f6db-54d53e656ffc",
        "colab": {
          "base_uri": "https://localhost:8080/",
          "height": 153
        }
      },
      "source": [
        "# fit the data to our model\n",
        "random_forest_classifier.fit(X_train, Y_train)"
      ],
      "execution_count": 0,
      "outputs": [
        {
          "output_type": "execute_result",
          "data": {
            "text/plain": [
              "RandomForestClassifier(bootstrap=True, ccp_alpha=0.0, class_weight=None,\n",
              "                       criterion='gini', max_depth=None, max_features='auto',\n",
              "                       max_leaf_nodes=None, max_samples=None,\n",
              "                       min_impurity_decrease=0.0, min_impurity_split=None,\n",
              "                       min_samples_leaf=1, min_samples_split=2,\n",
              "                       min_weight_fraction_leaf=0.0, n_estimators=100,\n",
              "                       n_jobs=None, oob_score=False, random_state=50, verbose=0,\n",
              "                       warm_start=False)"
            ]
          },
          "metadata": {
            "tags": []
          },
          "execution_count": 33
        }
      ]
    },
    {
      "cell_type": "code",
      "metadata": {
        "id": "ijbMZvzNXuq3",
        "colab_type": "code",
        "outputId": "032e5148-cca2-4a21-c59c-e6e21fea8364",
        "colab": {
          "base_uri": "https://localhost:8080/",
          "height": 34
        }
      },
      "source": [
        "# let's assess the accuracy of our model from the test data.\n",
        "result_score = random_forest_classifier.score(X_test, Y_test)\n",
        "print(result_score)"
      ],
      "execution_count": 0,
      "outputs": [
        {
          "output_type": "stream",
          "text": [
            "0.9550561797752809\n"
          ],
          "name": "stdout"
        }
      ]
    },
    {
      "cell_type": "code",
      "metadata": {
        "id": "a1XatTXzYAy8",
        "colab_type": "code",
        "colab": {}
      },
      "source": [
        "y_predict = random_forest_classifier.predict(X_test)"
      ],
      "execution_count": 0,
      "outputs": []
    },
    {
      "cell_type": "code",
      "metadata": {
        "id": "2qi1yaW8ZpIO",
        "colab_type": "code",
        "outputId": "387da0d9-3388-4ef8-b164-64045217d075",
        "colab": {
          "base_uri": "https://localhost:8080/",
          "height": 255
        }
      },
      "source": [
        "# Let's get a look\n",
        "print(pd.DataFrame(Y_test, y_predict))"
      ],
      "execution_count": 0,
      "outputs": [
        {
          "output_type": "stream",
          "text": [
            "    0\n",
            "0   0\n",
            "1   1\n",
            "0   0\n",
            "0   0\n",
            "0   0\n",
            ".. ..\n",
            "0   0\n",
            "0   0\n",
            "0   0\n",
            "0   0\n",
            "0   0\n",
            "\n",
            "[89 rows x 1 columns]\n"
          ],
          "name": "stdout"
        }
      ]
    },
    {
      "cell_type": "code",
      "metadata": {
        "id": "bjAjeQxwZFsk",
        "colab_type": "code",
        "colab": {}
      },
      "source": [
        "# Let's evaluate our model with the confusion matrix\n",
        "# import the confusion_matrix libraries\n",
        "from sklearn.metrics import confusion_matrix"
      ],
      "execution_count": 0,
      "outputs": []
    },
    {
      "cell_type": "code",
      "metadata": {
        "id": "RM_ihU6JZUVL",
        "colab_type": "code",
        "colab": {}
      },
      "source": [
        "cm = confusion_matrix(Y_test, y_predict)"
      ],
      "execution_count": 0,
      "outputs": []
    },
    {
      "cell_type": "code",
      "metadata": {
        "id": "mZKyOUISZbGQ",
        "colab_type": "code",
        "outputId": "c3aad569-bb40-4f60-ee34-60f5fb60b560",
        "colab": {
          "base_uri": "https://localhost:8080/",
          "height": 51
        }
      },
      "source": [
        "# Let's see the cm\n",
        "cm"
      ],
      "execution_count": 0,
      "outputs": [
        {
          "output_type": "execute_result",
          "data": {
            "text/plain": [
              "array([[76,  2],\n",
              "       [ 2,  9]])"
            ]
          },
          "metadata": {
            "tags": []
          },
          "execution_count": 41
        }
      ]
    },
    {
      "cell_type": "code",
      "metadata": {
        "id": "GpvW7UPcZ5nP",
        "colab_type": "code",
        "colab": {}
      },
      "source": [
        "# We gave 76 case of non fraud that have been correctly detected\n",
        "# we have 8 case of fraud that have been correctly detected"
      ],
      "execution_count": 0,
      "outputs": []
    }
  ]
}